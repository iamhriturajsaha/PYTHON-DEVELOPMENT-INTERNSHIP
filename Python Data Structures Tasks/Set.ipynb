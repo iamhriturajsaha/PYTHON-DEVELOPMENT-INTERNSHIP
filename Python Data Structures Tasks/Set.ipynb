{
  "nbformat": 4,
  "nbformat_minor": 0,
  "metadata": {
    "colab": {
      "provenance": []
    },
    "kernelspec": {
      "name": "python3",
      "display_name": "Python 3"
    },
    "language_info": {
      "name": "python"
    }
  },
  "cells": [
    {
      "cell_type": "code",
      "execution_count": 4,
      "metadata": {
        "colab": {
          "base_uri": "https://localhost:8080/"
        },
        "id": "PROCtPnRGwZe",
        "outputId": "8b6dd05c-ec3d-4775-b525-3c5eebced4d5"
      },
      "outputs": [
        {
          "output_type": "stream",
          "name": "stdout",
          "text": [
            "Roll numbers (duplicates removed): {101, 102, 103, 104, 105, 106, 107, 108}\n",
            "After adding 110: {101, 102, 103, 104, 105, 106, 107, 108, 110}\n",
            "After removing 103: {101, 102, 104, 105, 106, 107, 108, 110}\n"
          ]
        }
      ],
      "source": [
        "# SET TASKS\n",
        "\n",
        "# Create a set of 10 roll numbers (with duplicates)\n",
        "roll_numbers = {101, 102, 103, 104, 105, 101, 106, 107, 108, 102}\n",
        "print(\"Roll numbers (duplicates removed):\", roll_numbers)\n",
        "\n",
        "# Add a new roll number\n",
        "roll_numbers.add(110)\n",
        "print(\"After adding 110:\", roll_numbers)\n",
        "\n",
        "# Remove a roll number\n",
        "roll_numbers.remove(103)\n",
        "print(\"After removing 103:\", roll_numbers)"
      ]
    }
  ]
}
