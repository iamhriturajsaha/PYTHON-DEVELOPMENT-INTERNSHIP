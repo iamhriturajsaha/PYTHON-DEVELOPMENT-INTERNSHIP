{
  "nbformat": 4,
  "nbformat_minor": 0,
  "metadata": {
    "colab": {
      "provenance": []
    },
    "kernelspec": {
      "name": "python3",
      "display_name": "Python 3"
    },
    "language_info": {
      "name": "python"
    }
  },
  "cells": [
    {
      "cell_type": "code",
      "execution_count": 1,
      "metadata": {
        "colab": {
          "base_uri": "https://localhost:8080/"
        },
        "id": "PROCtPnRGwZe",
        "outputId": "92ab5259-debd-482e-b253-ab9036679c8b"
      },
      "outputs": [
        {
          "output_type": "stream",
          "name": "stdout",
          "text": [
            "3rd student: Charlie\n",
            "7th student: Grace\n",
            "Updated student list: ['Alice', 'Bob', 'David', 'Eva', 'Frank', 'Grace', 'Hannah', 'Ian', 'Julia', 'Kevin']\n",
            "Length of list: 10\n",
            "Sum of even numbers: 42\n",
            "First 5 students: ['Alice', 'Bob', 'David', 'Eva', 'Frank']\n",
            "All students:\n",
            "Alice\n",
            "Bob\n",
            "David\n",
            "Eva\n",
            "Frank\n",
            "Grace\n",
            "Hannah\n",
            "Ian\n",
            "Julia\n",
            "Kevin\n"
          ]
        }
      ],
      "source": [
        "# 1️⃣ LIST TASKS\n",
        "\n",
        "# Create a list of 10 student names\n",
        "students = [\"Alice\", \"Bob\", \"Charlie\", \"David\", \"Eva\", \"Frank\", \"Grace\", \"Hannah\", \"Ian\", \"Julia\"]\n",
        "\n",
        "# Print the 3rd and 7th name\n",
        "print(\"3rd student:\", students[2])   # Index 2 = 3rd element\n",
        "print(\"7th student:\", students[6])   # Index 6 = 7th element\n",
        "\n",
        "# Add a new name and remove one old name\n",
        "students.append(\"Kevin\")   # Adding new name\n",
        "students.remove(\"Charlie\") # Removing \"Charlie\"\n",
        "print(\"Updated student list:\", students)\n",
        "\n",
        "# Find the length of the list\n",
        "print(\"Length of list:\", len(students))\n",
        "\n",
        "# Write a program to find the sum of all even numbers in a list\n",
        "numbers = [1, 2, 3, 4, 5, 6, 10, 15, 20]\n",
        "even_sum = sum([num for num in numbers if num % 2 == 0])\n",
        "print(\"Sum of even numbers:\", even_sum)\n",
        "\n",
        "# Slice the list to get only the first 5 names\n",
        "print(\"First 5 students:\", students[:5])\n",
        "\n",
        "# Iterate through the list using a for loop and print each element\n",
        "print(\"All students:\")\n",
        "for name in students:\n",
        "    print(name)"
      ]
    }
  ]
}