{
  "nbformat": 4,
  "nbformat_minor": 0,
  "metadata": {
    "colab": {
      "provenance": []
    },
    "kernelspec": {
      "name": "python3",
      "display_name": "Python 3"
    },
    "language_info": {
      "name": "python"
    }
  },
  "cells": [
    {
      "cell_type": "code",
      "execution_count": 5,
      "metadata": {
        "colab": {
          "base_uri": "https://localhost:8080/"
        },
        "id": "PROCtPnRGwZe",
        "outputId": "059d083c-1f24-4ef9-fa2a-d45264ad1d92"
      },
      "outputs": [
        {
          "output_type": "stream",
          "name": "stdout",
          "text": [
            "Bob's marks: 92\n",
            "Updated dictionary: {'Alice': 89, 'Bob': 92, 'Charlie': 78, 'David': 90, 'Eva': 88, 'Frank': 95}\n",
            "After deleting Charlie: {'Alice': 89, 'Bob': 92, 'David': 90, 'Eva': 88, 'Frank': 95}\n",
            "Keys:\n",
            "Alice\n",
            "Bob\n",
            "David\n",
            "Eva\n",
            "Frank\n",
            "Values:\n",
            "89\n",
            "92\n",
            "90\n",
            "88\n",
            "95\n",
            "Keys and Values:\n",
            "Alice : 89\n",
            "Bob : 92\n",
            "David : 90\n",
            "Eva : 88\n",
            "Frank : 95\n",
            "Topper: Frank with marks 95\n"
          ]
        }
      ],
      "source": [
        "# DICTIONARY TASKS\n",
        "\n",
        "# Create a dictionary of 5 students\n",
        "marks = {\n",
        "    \"Alice\": 85,\n",
        "    \"Bob\": 92,\n",
        "    \"Charlie\": 78,\n",
        "    \"David\": 90,\n",
        "    \"Eva\": 88\n",
        "}\n",
        "\n",
        "# Access the marks of a particular student\n",
        "print(\"Bob's marks:\", marks[\"Bob\"])\n",
        "\n",
        "# Add a new student and update existing student's marks\n",
        "marks[\"Frank\"] = 95\n",
        "marks[\"Alice\"] = 89\n",
        "print(\"Updated dictionary:\", marks)\n",
        "\n",
        "# Delete one student\n",
        "del marks[\"Charlie\"]\n",
        "print(\"After deleting Charlie:\", marks)\n",
        "\n",
        "# Iterate and print keys, values, and both\n",
        "print(\"Keys:\")\n",
        "for name in marks.keys():\n",
        "    print(name)\n",
        "\n",
        "print(\"Values:\")\n",
        "for score in marks.values():\n",
        "    print(score)\n",
        "\n",
        "print(\"Keys and Values:\")\n",
        "for name, score in marks.items():\n",
        "    print(name, \":\", score)\n",
        "\n",
        "# Find the student with highest marks\n",
        "highest_student = max(marks, key=marks.get)\n",
        "print(\"Topper:\", highest_student, \"with marks\", marks[highest_student])"
      ]
    }
  ]
}
