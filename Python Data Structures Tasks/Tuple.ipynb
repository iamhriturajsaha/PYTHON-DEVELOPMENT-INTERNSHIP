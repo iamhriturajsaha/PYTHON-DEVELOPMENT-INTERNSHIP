{
  "nbformat": 4,
  "nbformat_minor": 0,
  "metadata": {
    "colab": {
      "provenance": []
    },
    "kernelspec": {
      "name": "python3",
      "display_name": "Python 3"
    },
    "language_info": {
      "name": "python"
    }
  },
  "cells": [
    {
      "cell_type": "code",
      "execution_count": 3,
      "metadata": {
        "colab": {
          "base_uri": "https://localhost:8080/"
        },
        "id": "PROCtPnRGwZe",
        "outputId": "1e577cf8-22c8-459a-f44b-3f112c4ba277"
      },
      "outputs": [
        {
          "output_type": "stream",
          "name": "stdout",
          "text": [
            "First city: New York\n",
            "Last city: Paris\n",
            "Count of 'Paris': 2\n",
            "Index of 'Tokyo': 2\n",
            "Cities in uppercase:\n",
            "NEW YORK\n",
            "PARIS\n",
            "TOKYO\n",
            "LONDON\n",
            "PARIS\n"
          ]
        }
      ],
      "source": [
        "# 2️⃣ TUPLE TASKS\n",
        "\n",
        "# Create a tuple of 5 cities\n",
        "cities = (\"New York\", \"Paris\", \"Tokyo\", \"London\", \"Paris\")\n",
        "\n",
        "# Print the first and last city\n",
        "print(\"First city:\", cities[0])\n",
        "print(\"Last city:\", cities[-1])\n",
        "\n",
        "# Try to change one city (will throw an error if uncommented)\n",
        "# cities[1] = \"Berlin\"  # ❌ Tuples are immutable\n",
        "\n",
        "# Count how many times a particular city appears\n",
        "print(\"Count of 'Paris':\", cities.count(\"Paris\"))\n",
        "\n",
        "# Find the index of a given city\n",
        "print(\"Index of 'Tokyo':\", cities.index(\"Tokyo\"))\n",
        "\n",
        "# Iterate and print cities in uppercase\n",
        "print(\"Cities in uppercase:\")\n",
        "for city in cities:\n",
        "    print(city.upper())"
      ]
    }
  ]
}