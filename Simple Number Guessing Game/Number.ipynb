{
  "nbformat": 4,
  "nbformat_minor": 0,
  "metadata": {
    "colab": {
      "provenance": []
    },
    "kernelspec": {
      "name": "python3",
      "display_name": "Python 3"
    },
    "language_info": {
      "name": "python"
    }
  },
  "cells": [
    {
      "cell_type": "code",
      "execution_count": 2,
      "metadata": {
        "colab": {
          "base_uri": "https://localhost:8080/"
        },
        "id": "dhX3FMz8O7Ml",
        "outputId": "18535ef8-cd2a-4a4c-8757-e68708bbdbe6"
      },
      "outputs": [
        {
          "output_type": "stream",
          "name": "stdout",
          "text": [
            "Welcome to the Number Guessing Game 🎮\n",
            "Enter your guess (1-100): 50\n",
            "Too Low! Try again.\n",
            "Enter your guess (1-100): 70\n",
            "Too Low! Try again.\n",
            "Enter your guess (1-100): 78\n",
            "Too High! Try again.\n",
            "Enter your guess (1-100): 75\n",
            "Too High! Try again.\n",
            "Enter your guess (1-100): 73\n",
            "Too High! Try again.\n",
            "Enter your guess (1-100): 72\n",
            "🎉 Congratulations! You guessed it!\n"
          ]
        }
      ],
      "source": [
        "# SIMPLE NUMBER GUESSING GAME\n",
        "\n",
        "\n",
        "# Basic Python Version\n",
        "\n",
        "import random\n",
        "print(\"Welcome to the Number Guessing Game 🎮\")\n",
        "\n",
        "# Computer selects a random number between 1 and 100\n",
        "secret_number = random.randint(1, 100)\n",
        "while True:\n",
        "    # Take input from player\n",
        "    guess = int(input(\"Enter your guess (1-100): \"))\n",
        "    if guess < secret_number:\n",
        "        print(\"Too Low! Try again.\")\n",
        "    elif guess > secret_number:\n",
        "        print(\"Too High! Try again.\")\n",
        "    else:\n",
        "        print(\"🎉 Congratulations! You guessed it!\")\n",
        "        break"
      ]
    },
    {
      "cell_type": "code",
      "source": [
        "# OOPs Version\n",
        "\n",
        "import random\n",
        "class NumberGuessingGame:\n",
        "    def __init__(self, lower=1, upper=100):\n",
        "        \"\"\"Initialize game with random secret number\"\"\"\n",
        "        self.secret_number = random.randint(lower, upper)\n",
        "        self.lower = lower\n",
        "        self.upper = upper\n",
        "    def play(self):\n",
        "        print(\"Welcome to the Number Guessing Game 🎮\")\n",
        "        while True:\n",
        "            try:\n",
        "                guess = int(input(f\"Enter your guess ({self.lower}-{self.upper}): \"))\n",
        "            except ValueError:\n",
        "                print(\"❌ Invalid input! Please enter a number.\")\n",
        "                continue\n",
        "            if guess < self.secret_number:\n",
        "                print(\"Too Low! Try again.\")\n",
        "            elif guess > self.secret_number:\n",
        "                print(\"Too High! Try again.\")\n",
        "            else:\n",
        "                print(\"🎉 Congratulations! You guessed it!\")\n",
        "                break\n",
        "\n",
        "# 🎮 Run the game\n",
        "game = NumberGuessingGame()\n",
        "game.play()"
      ],
      "metadata": {
        "colab": {
          "base_uri": "https://localhost:8080/"
        },
        "id": "MaQs6_bHPrdX",
        "outputId": "dfbb8c0d-fd25-419b-c45d-1bce3158beae"
      },
      "execution_count": 3,
      "outputs": [
        {
          "output_type": "stream",
          "name": "stdout",
          "text": [
            "Welcome to the Number Guessing Game 🎮\n",
            "Enter your guess (1-100): 50\n",
            "Too Low! Try again.\n",
            "Enter your guess (1-100): 68\n",
            "Too Low! Try again.\n",
            "Enter your guess (1-100): 78\n",
            "Too Low! Try again.\n",
            "Enter your guess (1-100): 80\n",
            "Too Low! Try again.\n",
            "Enter your guess (1-100): 85\n",
            "Too Low! Try again.\n",
            "Enter your guess (1-100): 90\n",
            "Too Low! Try again.\n",
            "Enter your guess (1-100): 95\n",
            "Too High! Try again.\n",
            "Enter your guess (1-100): 92\n",
            "Too Low! Try again.\n",
            "Enter your guess (1-100): 93\n",
            "Too Low! Try again.\n",
            "Enter your guess (1-100): 94\n",
            "🎉 Congratulations! You guessed it!\n"
          ]
        }
      ]
    }
  ]
}